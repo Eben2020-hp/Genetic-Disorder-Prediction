{
  "nbformat": 4,
  "nbformat_minor": 0,
  "metadata": {
    "colab": {
      "name": "Genetic Disorder-Model Building.ipynb",
      "provenance": [],
      "collapsed_sections": []
    },
    "kernelspec": {
      "name": "python3",
      "display_name": "Python 3"
    },
    "language_info": {
      "name": "python"
    }
  },
  "cells": [
    {
      "cell_type": "markdown",
      "metadata": {
        "id": "VWWEd5TbJAwH"
      },
      "source": [
        "<h1 align='center'> Genomes & Genetics </h1>\n",
        "<h4 align='center'> Predict The Genetic Disorders </h4>"
      ]
    },
    {
      "cell_type": "code",
      "metadata": {
        "colab": {
          "base_uri": "https://localhost:8080/"
        },
        "id": "nojyHcl1I7Ij",
        "outputId": "05bb03cb-9eca-4b15-d597-7be86e2cf537"
      },
      "source": [
        "from google.colab import drive\n",
        "drive.mount('/content/drive')"
      ],
      "execution_count": 1,
      "outputs": [
        {
          "output_type": "stream",
          "text": [
            "Mounted at /content/drive\n"
          ],
          "name": "stdout"
        }
      ]
    },
    {
      "cell_type": "markdown",
      "metadata": {
        "id": "ixdeoFxUJT4P"
      },
      "source": [
        "## 0. Import relevant Dependencies\n",
        "\n",
        "Incase you are getting any error saying the package is not installed while running the below cell, then you can use two methods:\n",
        "- pip install ________.\n",
        "- google 'How to install ________'."
      ]
    },
    {
      "cell_type": "code",
      "metadata": {
        "id": "hA1XQ1AGIRNw"
      },
      "source": [
        "## !pip install lazypredict"
      ],
      "execution_count": null,
      "outputs": []
    },
    {
      "cell_type": "code",
      "metadata": {
        "id": "M6AsZ9C6JQMs"
      },
      "source": [
        "# Python Imports\n",
        "import math,time,random,datetime\n",
        "\n",
        "# Data Manipulation\n",
        "import numpy as np\n",
        "import pandas as pd\n",
        "\n",
        "# Maching Learning\n",
        "from sklearn.model_selection import train_test_split\n",
        "from sklearn import model_selection, tree, preprocessing, metrics, linear_model\n",
        "from sklearn.svm import LinearSVC\n",
        "from sklearn.ensemble import GradientBoostingClassifier, RandomForestClassifier\n",
        "from sklearn.neighbors import KNeighborsClassifier\n",
        "from sklearn.naive_bayes import GaussianNB\n",
        "from sklearn.linear_model import LogisticRegression, SGDClassifier\n",
        "from sklearn.tree import DecisionTreeClassifier\n",
        "\n",
        "# Display all Columns\n",
        "pd.set_option('display.max_columns', None)\n",
        "\n",
        "# Ignore Warnings\n",
        "import warnings\n",
        "warnings.filterwarnings('ignore')\n",
        "\n",
        "import six\n",
        "import sys\n",
        "sys.modules['sklearn.externals.six'] = six\n",
        "\n",
        "# Imbalanced Data Handling\n",
        "from imblearn.combine import SMOTETomek\n",
        "from collections import Counter\n",
        "\n",
        "# Model Analysis\n",
        "import lazypredict\n",
        "from lazypredict.Supervised import LazyClassifier"
      ],
      "execution_count": 1,
      "outputs": []
    },
    {
      "cell_type": "code",
      "metadata": {
        "id": "LnAFHJY9JoHV"
      },
      "source": [
        "# Import the train and test data.\n",
        "train = pd.read_csv('/content/drive/MyDrive/Genetic_Disorder/Final_train.csv')\n",
        "test = pd.read_csv('/content/drive/MyDrive/Genetic_Disorder/Final_test.csv')"
      ],
      "execution_count": 2,
      "outputs": []
    },
    {
      "cell_type": "markdown",
      "metadata": {
        "id": "wmViXEynKMTy"
      },
      "source": [
        "## 1. Model Building"
      ]
    },
    {
      "cell_type": "markdown",
      "metadata": {
        "id": "gmNSzFkNJzlW"
      },
      "source": [
        "### Overcoming Class Imbalance"
      ]
    },
    {
      "cell_type": "code",
      "metadata": {
        "id": "PCj4xeTDKB-L"
      },
      "source": [
        "## Capture the Independent Variables\n",
        "X = train.drop(columns= ['Genetic Disorder', 'Disorder Subclass'], axis= 1)\n",
        "\n",
        "## Capture the Dependent Variable\n",
        "y1 = train['Genetic Disorder']\n",
        "y2 = train['Disorder Subclass']"
      ],
      "execution_count": 3,
      "outputs": []
    },
    {
      "cell_type": "code",
      "metadata": {
        "colab": {
          "base_uri": "https://localhost:8080/"
        },
        "id": "W3MINkA1JzT4",
        "outputId": "8a285805-3f55-40da-8efe-1e3385f2948c"
      },
      "source": [
        "## For Genetic Disorder\n",
        "os= SMOTETomek(random_state= 100)\n",
        "X1_ns,y1_ns = os.fit_resample(X, y1)\n",
        "print(\"The number of classes before fit {}\".format(Counter(y1)))\n",
        "print(\"The number of classes after fit {}\".format(Counter(y1_ns)))"
      ],
      "execution_count": 4,
      "outputs": [
        {
          "output_type": "stream",
          "text": [
            "The number of classes before fit Counter({0: 11174, 2: 8371, 1: 2260})\n",
            "The number of classes after fit Counter({1: 11168, 0: 10243, 2: 10243})\n"
          ],
          "name": "stdout"
        }
      ]
    },
    {
      "cell_type": "markdown",
      "metadata": {
        "id": "DwFWuvLcQvEd"
      },
      "source": [
        "### Model Selection"
      ]
    },
    {
      "cell_type": "code",
      "metadata": {
        "id": "9IPlppycKYhL"
      },
      "source": [
        "## Splitting the Data\n",
        "X_train, X_test, y_train, y_test = train_test_split(X1_ns, y1_ns, test_size= 0.30, random_state= 42)"
      ],
      "execution_count": 5,
      "outputs": []
    },
    {
      "cell_type": "code",
      "metadata": {
        "id": "DbMiOdreJ02K"
      },
      "source": [
        "## Step 1:\n",
        "algo = LogisticRegression()\n",
        "model = algo.fit(X_train, y_train)                          # Creating the model. We will fit the algorithm to the training data.\n",
        "log_acc = round(model.score(X_train, y_train)*100, 2)\n",
        "\n",
        "## Step 2:  --> This code performs Cross Validation automatically.\n",
        "log_train_pred = model_selection.cross_val_predict(algo, X_train, y_train, cv= 10, n_jobs= -1)\n",
        "\n",
        "## Step 3:  --> Cross Validation accuracy metric.\n",
        "log_acc_cv = round(metrics.accuracy_score(y_train, log_train_pred)*100, 2)\n",
        "log_f1_cv = round(metrics.f1_score(y_train, log_train_pred, average='macro')*100, 2)"
      ],
      "execution_count": 6,
      "outputs": []
    },
    {
      "cell_type": "code",
      "metadata": {
        "colab": {
          "base_uri": "https://localhost:8080/"
        },
        "id": "NQ2JzdapRoRG",
        "outputId": "d3d3d6d6-3453-485f-b9f0-636c53b90227"
      },
      "source": [
        "print('Accuracy of the model is: ', log_acc)\n",
        "print('Accuracy of 10-Fold CV is: ', log_acc_cv)\n",
        "print('F1 Score is: ', log_f1_cv)"
      ],
      "execution_count": 7,
      "outputs": [
        {
          "output_type": "stream",
          "text": [
            "Accuracy of the model is:  50.22\n",
            "Accuracy of 10-Fold CV is:  49.49\n",
            "F1 Score is:  47.85\n"
          ],
          "name": "stdout"
        }
      ]
    },
    {
      "cell_type": "code",
      "metadata": {
        "colab": {
          "base_uri": "https://localhost:8080/"
        },
        "id": "7Xz3XPPURxaw",
        "outputId": "462624d9-859e-4201-be4e-8e6087f4f8d2"
      },
      "source": [
        "## Step 1:\n",
        "algo = KNeighborsClassifier()\n",
        "model1 = algo.fit(X_train, y_train)                          \n",
        "knn_acc = round(model1.score(X_train, y_train)*100, 2)\n",
        "\n",
        "## Step 2:\n",
        "knn_train_pred = model_selection.cross_val_predict(algo, X_train, y_train, cv= 10, n_jobs= -1)\n",
        "\n",
        "## Step 3:\n",
        "knn_acc_cv = round(metrics.accuracy_score(y_train, knn_train_pred)*100, 2)\n",
        "knn_f1_cv = round(metrics.f1_score(y_train, knn_train_pred, average='macro')*100, 2)\n",
        "\n",
        "print('Accuracy of the model is: ', knn_acc)\n",
        "print('Accuracy of 10-Fold CV is: ', knn_acc_cv)\n",
        "print('F1 Score is: ', knn_f1_cv)"
      ],
      "execution_count": 8,
      "outputs": [
        {
          "output_type": "stream",
          "text": [
            "Accuracy of the model is:  74.28\n",
            "Accuracy of 10-Fold CV is:  60.4\n",
            "F1 Score is:  57.13\n"
          ],
          "name": "stdout"
        }
      ]
    },
    {
      "cell_type": "code",
      "metadata": {
        "colab": {
          "base_uri": "https://localhost:8080/"
        },
        "id": "XngLeOjzSg4N",
        "outputId": "5bf7a145-3517-406c-ddc3-9b666dd400e5"
      },
      "source": [
        "## Step 1:\n",
        "algo = GaussianNB()\n",
        "model2 = algo.fit(X_train, y_train)                          \n",
        "gnb_acc = round(model2.score(X_train, y_train)*100, 2)\n",
        "\n",
        "## Step 2:\n",
        "gnb_train_pred = model_selection.cross_val_predict(algo, X_train, y_train, cv= 10, n_jobs= -1)\n",
        "\n",
        "## Step 3:\n",
        "gnb_acc_cv = round(metrics.accuracy_score(y_train, gnb_train_pred)*100, 2)\n",
        "gnb_f1_cv = round(metrics.f1_score(y_train, gnb_train_pred, average='macro')*100, 2)\n",
        "\n",
        "print('Accuracy of the model is: ', gnb_acc)\n",
        "print('Accuracy of 10-Fold CV is: ', gnb_acc_cv)\n",
        "print('F1 Score is: ', gnb_f1_cv)"
      ],
      "execution_count": 9,
      "outputs": [
        {
          "output_type": "stream",
          "text": [
            "Accuracy of the model is:  52.07\n",
            "Accuracy of 10-Fold CV is:  51.67\n",
            "F1 Score is:  50.6\n"
          ],
          "name": "stdout"
        }
      ]
    },
    {
      "cell_type": "code",
      "metadata": {
        "colab": {
          "base_uri": "https://localhost:8080/"
        },
        "id": "uuxyMqHcSm5c",
        "outputId": "f1350a0d-ad89-470d-fe8d-7f9afae77435"
      },
      "source": [
        "## Step 1:\n",
        "algo = LinearSVC()\n",
        "model3 = algo.fit(X_train, y_train)                          \n",
        "svc_acc = round(model3.score(X_train, y_train)*100, 2)\n",
        "\n",
        "## Step 2:\n",
        "svc_train_pred = model_selection.cross_val_predict(algo, X_train, y_train, cv= 10, n_jobs= -1)\n",
        "\n",
        "## Step 3:\n",
        "svc_acc_cv = round(metrics.accuracy_score(y_train, svc_train_pred)*100, 2)\n",
        "svc_f1_cv = round(metrics.f1_score(y_train, svc_train_pred, average='macro')*100, 2)\n",
        "\n",
        "print('Accuracy of the model is: ', svc_acc)\n",
        "print('Accuracy of 10-Fold CV is: ', svc_acc_cv)\n",
        "print('F1 Score is: ', svc_f1_cv)"
      ],
      "execution_count": 10,
      "outputs": [
        {
          "output_type": "stream",
          "text": [
            "Accuracy of the model is:  49.12\n",
            "Accuracy of 10-Fold CV is:  48.68\n",
            "F1 Score is:  44.97\n"
          ],
          "name": "stdout"
        }
      ]
    },
    {
      "cell_type": "code",
      "metadata": {
        "colab": {
          "base_uri": "https://localhost:8080/"
        },
        "id": "NJnPwgtuSnQS",
        "outputId": "55ee9877-9437-4169-d6a3-cf9ee14a5783"
      },
      "source": [
        "## Step 1:\n",
        "algo = SGDClassifier()\n",
        "model4 = algo.fit(X_train, y_train)                          \n",
        "sgd_acc = round(model4.score(X_train, y_train)*100, 2)\n",
        "\n",
        "## Step 2:\n",
        "sgd_train_pred = model_selection.cross_val_predict(algo, X_train, y_train, cv= 10, n_jobs= -1)\n",
        "\n",
        "## Step 3:\n",
        "sgd_acc_cv = round(metrics.accuracy_score(y_train, sgd_train_pred)*100, 2)\n",
        "sgd_f1_cv = round(metrics.f1_score(y_train, sgd_train_pred, average='macro')*100, 2)\n",
        "\n",
        "print('Accuracy of the model is: ', sgd_acc)\n",
        "print('Accuracy of 10-Fold CV is: ', sgd_acc_cv)\n",
        "print('F1 Score is: ', sgd_f1_cv)"
      ],
      "execution_count": 11,
      "outputs": [
        {
          "output_type": "stream",
          "text": [
            "Accuracy of the model is:  48.34\n",
            "Accuracy of 10-Fold CV is:  47.45\n",
            "F1 Score is:  44.75\n"
          ],
          "name": "stdout"
        }
      ]
    },
    {
      "cell_type": "code",
      "metadata": {
        "colab": {
          "base_uri": "https://localhost:8080/"
        },
        "id": "XnXpxGBeSnae",
        "outputId": "da6cfbc9-3ca5-40f9-bd16-8a301d6cbf30"
      },
      "source": [
        "## Step 1:\n",
        "algo = DecisionTreeClassifier()\n",
        "model5 = algo.fit(X_train, y_train)                          \n",
        "dec_acc = round(model5.score(X_train, y_train)*100, 2)\n",
        "\n",
        "## Step 2:\n",
        "dec_train_pred = model_selection.cross_val_predict(algo, X_train, y_train, cv= 10, n_jobs= -1)\n",
        "\n",
        "## Step 3:\n",
        "dec_acc_cv = round(metrics.accuracy_score(y_train, dec_train_pred)*100, 2)\n",
        "dec_f1_cv = round(metrics.f1_score(y_train, dec_train_pred, average='macro')*100, 2)\n",
        "\n",
        "print('Accuracy of the model is: ', dec_acc)\n",
        "print('Accuracy of 10-Fold CV is: ', dec_acc_cv)\n",
        "print('F1 Score is: ', dec_f1_cv)"
      ],
      "execution_count": 12,
      "outputs": [
        {
          "output_type": "stream",
          "text": [
            "Accuracy of the model is:  100.0\n",
            "Accuracy of 10-Fold CV is:  55.67\n",
            "F1 Score is:  55.08\n"
          ],
          "name": "stdout"
        }
      ]
    },
    {
      "cell_type": "code",
      "metadata": {
        "colab": {
          "base_uri": "https://localhost:8080/"
        },
        "id": "AdDUbtYgSnkD",
        "outputId": "2434b13e-b124-44b2-e8b4-eb249f9a091b"
      },
      "source": [
        "## Step 1:\n",
        "algo = GradientBoostingClassifier()\n",
        "model6 = algo.fit(X_train, y_train)                          \n",
        "grd_acc = round(model6.score(X_train, y_train)*100, 2)\n",
        "\n",
        "## Step 2:\n",
        "grd_train_pred = model_selection.cross_val_predict(algo, X_train, y_train, cv= 10, n_jobs= -1)\n",
        "\n",
        "## Step 3:\n",
        "grd_acc_cv = round(metrics.accuracy_score(y_train, grd_train_pred)*100, 2)\n",
        "grd_f1_cv = round(metrics.f1_score(y_train, grd_train_pred, average='macro')*100, 2)\n",
        "\n",
        "print('Accuracy of the model is: ', grd_acc)\n",
        "print('Accuracy of 10-Fold CV is: ', grd_acc_cv)\n",
        "print('F1 Score is: ', grd_f1_cv)"
      ],
      "execution_count": 13,
      "outputs": [
        {
          "output_type": "stream",
          "text": [
            "Accuracy of the model is:  64.44\n",
            "Accuracy of 10-Fold CV is:  61.57\n",
            "F1 Score is:  59.21\n"
          ],
          "name": "stdout"
        }
      ]
    },
    {
      "cell_type": "code",
      "metadata": {
        "colab": {
          "base_uri": "https://localhost:8080/"
        },
        "id": "oH3FZft-Snsm",
        "outputId": "12c2a3ed-a1ca-4e0a-b978-20d322658fdc"
      },
      "source": [
        "## Step 1:\n",
        "algo = RandomForestClassifier()\n",
        "model7 = algo.fit(X_train, y_train)                          \n",
        "rf_acc = round(model7.score(X_train, y_train)*100, 2)\n",
        "\n",
        "## Step 2:\n",
        "rf_train_pred = model_selection.cross_val_predict(algo, X_train, y_train, cv= 10, n_jobs= -1)\n",
        "\n",
        "## Step 3:\n",
        "rf_acc_cv = round(metrics.accuracy_score(y_train, rf_train_pred)*100, 2)\n",
        "rf_f1_cv = round(metrics.f1_score(y_train, rf_train_pred, average='macro')*100, 2)\n",
        "\n",
        "print('Accuracy of the model is: ', rf_acc)\n",
        "print('Accuracy of 10-Fold CV is: ', rf_acc_cv)\n",
        "print('F1 Score is: ', rf_f1_cv)"
      ],
      "execution_count": 14,
      "outputs": [
        {
          "output_type": "stream",
          "text": [
            "Accuracy of the model is:  100.0\n",
            "Accuracy of 10-Fold CV is:  67.55\n",
            "F1 Score is:  66.13\n"
          ],
          "name": "stdout"
        }
      ]
    },
    {
      "cell_type": "code",
      "metadata": {
        "colab": {
          "base_uri": "https://localhost:8080/",
          "height": 314
        },
        "id": "PeH_TRK9Sn0c",
        "outputId": "935dfa5c-497c-4154-d15f-383bf9780ddf"
      },
      "source": [
        "cv_models = pd.DataFrame({'Model':[' Logistic Regression', 'K-Nearest Neighbours', 'Gaussian Naive Bayes', \n",
        "                                'Linear Support Vector Machines (SVC)', 'Stochastic Gradient Descent', \n",
        "                                'Decision Tree Classifier', 'Gradient Boost Trees', 'Random Forest'],\n",
        "                      'Score':[log_acc_cv, knn_acc_cv, gnb_acc_cv, svc_acc_cv, sgd_acc_cv, dec_acc_cv, grd_acc_cv, rf_acc_cv]})\n",
        "\n",
        "print('-----Cross-Validation Accuracy Scores-----')\n",
        "cv_models.nlargest(9,'Score')"
      ],
      "execution_count": 15,
      "outputs": [
        {
          "output_type": "stream",
          "text": [
            "-----Cross-Validation Accuracy Scores-----\n"
          ],
          "name": "stdout"
        },
        {
          "output_type": "execute_result",
          "data": {
            "text/html": [
              "<div>\n",
              "<style scoped>\n",
              "    .dataframe tbody tr th:only-of-type {\n",
              "        vertical-align: middle;\n",
              "    }\n",
              "\n",
              "    .dataframe tbody tr th {\n",
              "        vertical-align: top;\n",
              "    }\n",
              "\n",
              "    .dataframe thead th {\n",
              "        text-align: right;\n",
              "    }\n",
              "</style>\n",
              "<table border=\"1\" class=\"dataframe\">\n",
              "  <thead>\n",
              "    <tr style=\"text-align: right;\">\n",
              "      <th></th>\n",
              "      <th>Model</th>\n",
              "      <th>Score</th>\n",
              "    </tr>\n",
              "  </thead>\n",
              "  <tbody>\n",
              "    <tr>\n",
              "      <th>7</th>\n",
              "      <td>Random Forest</td>\n",
              "      <td>67.55</td>\n",
              "    </tr>\n",
              "    <tr>\n",
              "      <th>6</th>\n",
              "      <td>Gradient Boost Trees</td>\n",
              "      <td>61.57</td>\n",
              "    </tr>\n",
              "    <tr>\n",
              "      <th>1</th>\n",
              "      <td>K-Nearest Neighbours</td>\n",
              "      <td>60.40</td>\n",
              "    </tr>\n",
              "    <tr>\n",
              "      <th>5</th>\n",
              "      <td>Decision Tree Classifier</td>\n",
              "      <td>55.67</td>\n",
              "    </tr>\n",
              "    <tr>\n",
              "      <th>2</th>\n",
              "      <td>Gaussian Naive Bayes</td>\n",
              "      <td>51.67</td>\n",
              "    </tr>\n",
              "    <tr>\n",
              "      <th>0</th>\n",
              "      <td>Logistic Regression</td>\n",
              "      <td>49.49</td>\n",
              "    </tr>\n",
              "    <tr>\n",
              "      <th>3</th>\n",
              "      <td>Linear Support Vector Machines (SVC)</td>\n",
              "      <td>48.68</td>\n",
              "    </tr>\n",
              "    <tr>\n",
              "      <th>4</th>\n",
              "      <td>Stochastic Gradient Descent</td>\n",
              "      <td>47.45</td>\n",
              "    </tr>\n",
              "  </tbody>\n",
              "</table>\n",
              "</div>"
            ],
            "text/plain": [
              "                                  Model  Score\n",
              "7                         Random Forest  67.55\n",
              "6                  Gradient Boost Trees  61.57\n",
              "1                  K-Nearest Neighbours  60.40\n",
              "5              Decision Tree Classifier  55.67\n",
              "2                  Gaussian Naive Bayes  51.67\n",
              "0                   Logistic Regression  49.49\n",
              "3  Linear Support Vector Machines (SVC)  48.68\n",
              "4           Stochastic Gradient Descent  47.45"
            ]
          },
          "metadata": {
            "tags": []
          },
          "execution_count": 15
        }
      ]
    },
    {
      "cell_type": "code",
      "metadata": {
        "colab": {
          "base_uri": "https://localhost:8080/",
          "height": 314
        },
        "id": "3pKXSEH7WcAQ",
        "outputId": "07147037-947c-44bb-fed8-fed62660f68c"
      },
      "source": [
        "f1_models = pd.DataFrame({'Model':[' Logistic Regression', 'K-Nearest Neighbours', 'Gaussian Naive Bayes', \n",
        "                                'Linear Support Vector Machines (SVC)', 'Stochastic Gradient Descent', \n",
        "                                'Decision Tree Classifier', 'Gradient Boost Trees', 'Random Forest'],\n",
        "                      'Score':[log_f1_cv, knn_f1_cv, gnb_f1_cv, svc_f1_cv, sgd_f1_cv, dec_f1_cv, grd_f1_cv, rf_f1_cv]})\n",
        "\n",
        "print('-----F1 Scores-----')\n",
        "f1_models.nlargest(9,'Score')"
      ],
      "execution_count": 16,
      "outputs": [
        {
          "output_type": "stream",
          "text": [
            "-----F1 Scores-----\n"
          ],
          "name": "stdout"
        },
        {
          "output_type": "execute_result",
          "data": {
            "text/html": [
              "<div>\n",
              "<style scoped>\n",
              "    .dataframe tbody tr th:only-of-type {\n",
              "        vertical-align: middle;\n",
              "    }\n",
              "\n",
              "    .dataframe tbody tr th {\n",
              "        vertical-align: top;\n",
              "    }\n",
              "\n",
              "    .dataframe thead th {\n",
              "        text-align: right;\n",
              "    }\n",
              "</style>\n",
              "<table border=\"1\" class=\"dataframe\">\n",
              "  <thead>\n",
              "    <tr style=\"text-align: right;\">\n",
              "      <th></th>\n",
              "      <th>Model</th>\n",
              "      <th>Score</th>\n",
              "    </tr>\n",
              "  </thead>\n",
              "  <tbody>\n",
              "    <tr>\n",
              "      <th>7</th>\n",
              "      <td>Random Forest</td>\n",
              "      <td>66.13</td>\n",
              "    </tr>\n",
              "    <tr>\n",
              "      <th>6</th>\n",
              "      <td>Gradient Boost Trees</td>\n",
              "      <td>59.21</td>\n",
              "    </tr>\n",
              "    <tr>\n",
              "      <th>1</th>\n",
              "      <td>K-Nearest Neighbours</td>\n",
              "      <td>57.13</td>\n",
              "    </tr>\n",
              "    <tr>\n",
              "      <th>5</th>\n",
              "      <td>Decision Tree Classifier</td>\n",
              "      <td>55.08</td>\n",
              "    </tr>\n",
              "    <tr>\n",
              "      <th>2</th>\n",
              "      <td>Gaussian Naive Bayes</td>\n",
              "      <td>50.60</td>\n",
              "    </tr>\n",
              "    <tr>\n",
              "      <th>0</th>\n",
              "      <td>Logistic Regression</td>\n",
              "      <td>47.85</td>\n",
              "    </tr>\n",
              "    <tr>\n",
              "      <th>3</th>\n",
              "      <td>Linear Support Vector Machines (SVC)</td>\n",
              "      <td>44.97</td>\n",
              "    </tr>\n",
              "    <tr>\n",
              "      <th>4</th>\n",
              "      <td>Stochastic Gradient Descent</td>\n",
              "      <td>44.75</td>\n",
              "    </tr>\n",
              "  </tbody>\n",
              "</table>\n",
              "</div>"
            ],
            "text/plain": [
              "                                  Model  Score\n",
              "7                         Random Forest  66.13\n",
              "6                  Gradient Boost Trees  59.21\n",
              "1                  K-Nearest Neighbours  57.13\n",
              "5              Decision Tree Classifier  55.08\n",
              "2                  Gaussian Naive Bayes  50.60\n",
              "0                   Logistic Regression  47.85\n",
              "3  Linear Support Vector Machines (SVC)  44.97\n",
              "4           Stochastic Gradient Descent  44.75"
            ]
          },
          "metadata": {
            "tags": []
          },
          "execution_count": 16
        }
      ]
    },
    {
      "cell_type": "code",
      "metadata": {
        "colab": {
          "base_uri": "https://localhost:8080/"
        },
        "id": "10wOKHBXZDHz",
        "outputId": "1a9432b3-5e83-462b-bf7f-897e37e00a6f"
      },
      "source": [
        "## For Disorder Subclass\n",
        "os= SMOTETomek(random_state= 100)\n",
        "X2_ns,y2_ns = os.fit_resample(X, y2)\n",
        "print(\"The number of classes before fit {}\".format(Counter(y2)))\n",
        "print(\"The number of classes after fit {}\".format(Counter(y2_ns)))"
      ],
      "execution_count": 17,
      "outputs": [
        {
          "output_type": "stream",
          "text": [
            "The number of classes before fit Counter({6: 6121, 7: 4405, 2: 4183, 8: 2833, 3: 2011, 4: 1355, 5: 648, 0: 152, 1: 97})\n",
            "The number of classes after fit Counter({5: 6121, 1: 6121, 0: 6121, 4: 6117, 3: 6089, 8: 6011, 2: 5844, 7: 5786, 6: 5625})\n"
          ],
          "name": "stdout"
        }
      ]
    },
    {
      "cell_type": "code",
      "metadata": {
        "id": "A0_B9Suwf-Fi"
      },
      "source": [
        "## Splitting the Data\n",
        "X1_train, X1_test, y1_train, y1_test = train_test_split(X2_ns, y2_ns, test_size=0.30, random_state= 42)"
      ],
      "execution_count": 18,
      "outputs": []
    },
    {
      "cell_type": "code",
      "metadata": {
        "colab": {
          "base_uri": "https://localhost:8080/"
        },
        "id": "A06xHyFCgLJ0",
        "outputId": "ce848b96-b2b8-4066-fb5d-a85568a3666e"
      },
      "source": [
        "## Step 1:\n",
        "algo = LogisticRegression()\n",
        "model8 = algo.fit(X1_train, y1_train)                          # Creating the model1. We will fit the algorithm to the training data.\n",
        "log_acc = round(model8.score(X1_train, y1_train)*100, 2)\n",
        "\n",
        "## Step 2:  --> This code performs Cross Validation automatically.\n",
        "log_train_pred = model_selection.cross_val_predict(algo, X1_train, y1_train, cv= 10, n_jobs= -1)\n",
        "\n",
        "## Step 3:  --> Cross Validation accuracy metric.\n",
        "log_acc_cv = round(metrics.accuracy_score(y1_train, log_train_pred)*100, 2)\n",
        "log_f1_cv = round(metrics.f1_score(y1_train, log_train_pred, average='macro')*100, 2)\n",
        "\n",
        "print('Accuracy of the model is: ', log_acc)\n",
        "print('Accuracy of 10-Fold CV is: ', log_acc_cv)\n",
        "print('F1 Score is: ', log_f1_cv)\n"
      ],
      "execution_count": 19,
      "outputs": [
        {
          "output_type": "stream",
          "text": [
            "Accuracy of the model is:  30.52\n",
            "Accuracy of 10-Fold CV is:  30.14\n",
            "F1 Score is:  26.12\n"
          ],
          "name": "stdout"
        }
      ]
    },
    {
      "cell_type": "code",
      "metadata": {
        "id": "EKWxKCM3gLWn",
        "colab": {
          "base_uri": "https://localhost:8080/"
        },
        "outputId": "fe54b748-ee16-433f-f77e-5bb734d1cae8"
      },
      "source": [
        "## Step 1:\n",
        "algo = KNeighborsClassifier()\n",
        "model9 = algo.fit(X1_train, y1_train)                          \n",
        "knn_acc = round(model9.score(X1_train, y1_train)*100, 2)\n",
        "\n",
        "## Step 2:\n",
        "knn_train_pred = model_selection.cross_val_predict(algo, X1_train, y1_train, cv= 10, n_jobs= -1)\n",
        "\n",
        "## Step 3:\n",
        "knn_acc_cv = round(metrics.accuracy_score(y1_train, knn_train_pred)*100, 2)\n",
        "knn_f1_cv = round(metrics.f1_score(y1_train, knn_train_pred, average='macro')*100, 2)\n",
        "\n",
        "print('Accuracy of the model1 is: ', knn_acc)\n",
        "print('Accuracy of 10-Fold CV is: ', knn_acc_cv)\n",
        "print('F1 Score is: ', knn_f1_cv)"
      ],
      "execution_count": 20,
      "outputs": [
        {
          "output_type": "stream",
          "text": [
            "Accuracy of the model1 is:  79.03\n",
            "Accuracy of 10-Fold CV is:  67.8\n",
            "F1 Score is:  62.47\n"
          ],
          "name": "stdout"
        }
      ]
    },
    {
      "cell_type": "code",
      "metadata": {
        "id": "lCNe0Q66gLhm",
        "colab": {
          "base_uri": "https://localhost:8080/"
        },
        "outputId": "df6e6498-eba8-4736-9180-7fbe878edf83"
      },
      "source": [
        "## Step 1:\n",
        "algo = GaussianNB()\n",
        "model10 = algo.fit(X1_train, y1_train)                          \n",
        "gnb_acc = round(model10.score(X1_train, y1_train)*100, 2)\n",
        "\n",
        "## Step 2:\n",
        "gnb_train_pred = model_selection.cross_val_predict(algo, X1_train, y1_train, cv= 10, n_jobs= -1)\n",
        "\n",
        "## Step 3:\n",
        "gnb_acc_cv = round(metrics.accuracy_score(y1_train, gnb_train_pred)*100, 2)\n",
        "gnb_f1_cv = round(metrics.f1_score(y1_train, gnb_train_pred, average='macro')*100, 2)\n",
        "\n",
        "print('Accuracy of the model2 is: ', gnb_acc)\n",
        "print('Accuracy of 10-Fold CV is: ', gnb_acc_cv)\n",
        "print('F1 Score is: ', gnb_f1_cv)"
      ],
      "execution_count": 21,
      "outputs": [
        {
          "output_type": "stream",
          "text": [
            "Accuracy of the model2 is:  30.2\n",
            "Accuracy of 10-Fold CV is:  29.98\n",
            "F1 Score is:  23.44\n"
          ],
          "name": "stdout"
        }
      ]
    },
    {
      "cell_type": "code",
      "metadata": {
        "id": "05-ih5-EgLtF",
        "colab": {
          "base_uri": "https://localhost:8080/"
        },
        "outputId": "eae32061-510f-478e-9bb8-10ab6e631bfb"
      },
      "source": [
        "## Step 1:\n",
        "algo = LinearSVC()\n",
        "model11 = algo.fit(X1_train, y1_train)                          \n",
        "svc_acc = round(model11.score(X1_train, y1_train)*100, 2)\n",
        "\n",
        "## Step 2:\n",
        "svc_train_pred = model_selection.cross_val_predict(algo, X1_train, y1_train, cv= 10, n_jobs= -1)\n",
        "\n",
        "## Step 3:\n",
        "svc_acc_cv = round(metrics.accuracy_score(y1_train, svc_train_pred)*100, 2)\n",
        "svc_f1_cv = round(metrics.f1_score(y1_train, svc_train_pred, average='macro')*100, 2)\n",
        "\n",
        "print('Accuracy of the model2 is: ', svc_acc)\n",
        "print('Accuracy of 10-Fold CV is: ', svc_acc_cv)\n",
        "print('F1 Score is: ', svc_f1_cv)"
      ],
      "execution_count": 22,
      "outputs": [
        {
          "output_type": "stream",
          "text": [
            "Accuracy of the model2 is:  28.88\n",
            "Accuracy of 10-Fold CV is:  28.67\n",
            "F1 Score is:  22.01\n"
          ],
          "name": "stdout"
        }
      ]
    },
    {
      "cell_type": "code",
      "metadata": {
        "id": "z_jOOipRgL2c",
        "colab": {
          "base_uri": "https://localhost:8080/"
        },
        "outputId": "acf751da-0868-4253-b4e0-ec3f1fe1f0e9"
      },
      "source": [
        "## Step 1:\n",
        "algo = SGDClassifier()\n",
        "model12 = algo.fit(X1_train, y1_train)                          \n",
        "sgd_acc = round(model12.score(X1_train, y1_train)*100, 2)\n",
        "\n",
        "## Step 2:\n",
        "sgd_train_pred = model_selection.cross_val_predict(algo, X1_train, y1_train, cv= 10, n_jobs= -1)\n",
        "\n",
        "## Step 3:\n",
        "sgd_acc_cv = round(metrics.accuracy_score(y1_train, sgd_train_pred)*100, 2)\n",
        "sgd_f1_cv = round(metrics.f1_score(y1_train, sgd_train_pred, average='macro')*100, 2)\n",
        "\n",
        "print('Accuracy of the model2 is: ', sgd_acc)\n",
        "print('Accuracy of 10-Fold CV is: ', sgd_acc_cv)\n",
        "print('F1 Score is: ', sgd_f1_cv)"
      ],
      "execution_count": 23,
      "outputs": [
        {
          "output_type": "stream",
          "text": [
            "Accuracy of the model2 is:  18.95\n",
            "Accuracy of 10-Fold CV is:  22.1\n",
            "F1 Score is:  20.6\n"
          ],
          "name": "stdout"
        }
      ]
    },
    {
      "cell_type": "code",
      "metadata": {
        "id": "Ge9dTwIugMCJ",
        "colab": {
          "base_uri": "https://localhost:8080/"
        },
        "outputId": "260b698f-fba2-4bfb-cac9-574773b5ad74"
      },
      "source": [
        "## Step 1:\n",
        "algo = DecisionTreeClassifier()\n",
        "model13 = algo.fit(X1_train, y1_train)                          \n",
        "dec_acc = round(model13.score(X1_train, y1_train)*100, 2)\n",
        "\n",
        "## Step 2:\n",
        "dec_train_pred = model_selection.cross_val_predict(algo, X1_train, y1_train, cv= 10, n_jobs= -1)\n",
        "\n",
        "## Step 3:\n",
        "dec_acc_cv = round(metrics.accuracy_score(y1_train, dec_train_pred)*100, 2)\n",
        "dec_f1_cv = round(metrics.f1_score(y1_train, dec_train_pred, average='macro')*100, 2)\n",
        "\n",
        "print('Accuracy of the model2 is: ', dec_acc)\n",
        "print('Accuracy of 10-Fold CV is: ', dec_acc_cv)\n",
        "print('F1 Score is: ', dec_f1_cv)"
      ],
      "execution_count": 24,
      "outputs": [
        {
          "output_type": "stream",
          "text": [
            "Accuracy of the model2 is:  100.0\n",
            "Accuracy of 10-Fold CV is:  54.46\n",
            "F1 Score is:  53.38\n"
          ],
          "name": "stdout"
        }
      ]
    },
    {
      "cell_type": "code",
      "metadata": {
        "id": "l1e79PEzgMMR",
        "colab": {
          "base_uri": "https://localhost:8080/"
        },
        "outputId": "4df6a1f7-7b3a-47ad-df4a-ae810a2b3c68"
      },
      "source": [
        "## Step 1:\n",
        "algo = GradientBoostingClassifier()\n",
        "model14 = algo.fit(X1_train, y1_train)                          \n",
        "grd_acc = round(model14.score(X1_train, y1_train)*100, 2)\n",
        "\n",
        "## Step 2:\n",
        "grd_train_pred = model_selection.cross_val_predict(algo, X1_train, y1_train, cv= 10, n_jobs= -1)\n",
        "\n",
        "## Step 3:\n",
        "grd_acc_cv = round(metrics.accuracy_score(y1_train, grd_train_pred)*100, 2)\n",
        "grd_f1_cv = round(metrics.f1_score(y1_train, grd_train_pred, average='macro')*100, 2)\n",
        "\n",
        "print('Accuracy of the model2 is: ', grd_acc)\n",
        "print('Accuracy of 10-Fold CV is: ', grd_acc_cv)\n",
        "print('F1 Score is: ', grd_f1_cv)"
      ],
      "execution_count": 26,
      "outputs": [
        {
          "output_type": "stream",
          "text": [
            "Accuracy of the model2 is:  52.02\n",
            "Accuracy of 10-Fold CV is:  47.09\n",
            "F1 Score is:  44.01\n"
          ],
          "name": "stdout"
        }
      ]
    },
    {
      "cell_type": "code",
      "metadata": {
        "id": "TWynWdvwgMWp",
        "colab": {
          "base_uri": "https://localhost:8080/"
        },
        "outputId": "ce3ef6a3-790f-4e68-be10-e45a927c8d84"
      },
      "source": [
        "## Step 1:\n",
        "algo = RandomForestClassifier()\n",
        "model15 = algo.fit(X1_train, y1_train)                          \n",
        "rf_acc = round(model15.score(X1_train, y1_train)*100, 2)\n",
        "\n",
        "## Step 2:\n",
        "rf_train_pred = model_selection.cross_val_predict(algo, X1_train, y1_train, cv= 10, n_jobs= -1)\n",
        "\n",
        "## Step 3:\n",
        "rf_acc_cv = round(metrics.accuracy_score(y1_train, rf_train_pred)*100, 2)\n",
        "rf_f1_cv = round(metrics.f1_score(y1_train, rf_train_pred, average='macro')*100, 2)\n",
        "\n",
        "print('Accuracy of the model2 is: ', rf_acc)\n",
        "print('Accuracy of 10-Fold CV is: ', rf_acc_cv)\n",
        "print('F1 Score is: ', rf_f1_cv)"
      ],
      "execution_count": 27,
      "outputs": [
        {
          "output_type": "stream",
          "text": [
            "Accuracy of the model2 is:  100.0\n",
            "Accuracy of 10-Fold CV is:  71.31\n",
            "F1 Score is:  69.95\n"
          ],
          "name": "stdout"
        }
      ]
    },
    {
      "cell_type": "code",
      "metadata": {
        "id": "NjhF1SDOgMh4",
        "colab": {
          "base_uri": "https://localhost:8080/",
          "height": 314
        },
        "outputId": "c9c81556-6860-4b37-9300-0be5b149440f"
      },
      "source": [
        "f1_models = pd.DataFrame({'Model':[' Logistic Regression', 'K-Nearest Neighbours', 'Gaussian Naive Bayes', \n",
        "                                'Linear Support Vector Machines (SVC)', 'Stochastic Gradient Descent', \n",
        "                                'Decision Tree Classifier', 'Gradient Boost Trees', 'Random Forest'],\n",
        "                      'Score':[log_f1_cv, knn_f1_cv, gnb_f1_cv, svc_f1_cv, sgd_f1_cv, dec_f1_cv, grd_f1_cv, rf_f1_cv]})\n",
        "\n",
        "print('-----F1 Scores-----')\n",
        "f1_models.nlargest(9,'Score')"
      ],
      "execution_count": 28,
      "outputs": [
        {
          "output_type": "stream",
          "text": [
            "-----F1 Scores-----\n"
          ],
          "name": "stdout"
        },
        {
          "output_type": "execute_result",
          "data": {
            "text/html": [
              "<div>\n",
              "<style scoped>\n",
              "    .dataframe tbody tr th:only-of-type {\n",
              "        vertical-align: middle;\n",
              "    }\n",
              "\n",
              "    .dataframe tbody tr th {\n",
              "        vertical-align: top;\n",
              "    }\n",
              "\n",
              "    .dataframe thead th {\n",
              "        text-align: right;\n",
              "    }\n",
              "</style>\n",
              "<table border=\"1\" class=\"dataframe\">\n",
              "  <thead>\n",
              "    <tr style=\"text-align: right;\">\n",
              "      <th></th>\n",
              "      <th>Model</th>\n",
              "      <th>Score</th>\n",
              "    </tr>\n",
              "  </thead>\n",
              "  <tbody>\n",
              "    <tr>\n",
              "      <th>7</th>\n",
              "      <td>Random Forest</td>\n",
              "      <td>69.95</td>\n",
              "    </tr>\n",
              "    <tr>\n",
              "      <th>1</th>\n",
              "      <td>K-Nearest Neighbours</td>\n",
              "      <td>62.47</td>\n",
              "    </tr>\n",
              "    <tr>\n",
              "      <th>5</th>\n",
              "      <td>Decision Tree Classifier</td>\n",
              "      <td>53.38</td>\n",
              "    </tr>\n",
              "    <tr>\n",
              "      <th>6</th>\n",
              "      <td>Gradient Boost Trees</td>\n",
              "      <td>44.01</td>\n",
              "    </tr>\n",
              "    <tr>\n",
              "      <th>0</th>\n",
              "      <td>Logistic Regression</td>\n",
              "      <td>26.12</td>\n",
              "    </tr>\n",
              "    <tr>\n",
              "      <th>2</th>\n",
              "      <td>Gaussian Naive Bayes</td>\n",
              "      <td>23.44</td>\n",
              "    </tr>\n",
              "    <tr>\n",
              "      <th>3</th>\n",
              "      <td>Linear Support Vector Machines (SVC)</td>\n",
              "      <td>22.01</td>\n",
              "    </tr>\n",
              "    <tr>\n",
              "      <th>4</th>\n",
              "      <td>Stochastic Gradient Descent</td>\n",
              "      <td>20.60</td>\n",
              "    </tr>\n",
              "  </tbody>\n",
              "</table>\n",
              "</div>"
            ],
            "text/plain": [
              "                                  Model  Score\n",
              "7                         Random Forest  69.95\n",
              "1                  K-Nearest Neighbours  62.47\n",
              "5              Decision Tree Classifier  53.38\n",
              "6                  Gradient Boost Trees  44.01\n",
              "0                   Logistic Regression  26.12\n",
              "2                  Gaussian Naive Bayes  23.44\n",
              "3  Linear Support Vector Machines (SVC)  22.01\n",
              "4           Stochastic Gradient Descent  20.60"
            ]
          },
          "metadata": {
            "tags": []
          },
          "execution_count": 28
        }
      ]
    },
    {
      "cell_type": "markdown",
      "metadata": {
        "id": "Xmjg3X61mCQA"
      },
      "source": [
        "###### Prediction"
      ]
    },
    {
      "cell_type": "code",
      "metadata": {
        "id": "7Fvw11UKgMtG",
        "colab": {
          "base_uri": "https://localhost:8080/"
        },
        "outputId": "1de8436d-efff-4a6e-8aea-0cb5200c15de"
      },
      "source": [
        "pred = model7.predict(X_test)\n",
        "print(round(metrics.f1_score(y_test, pred, average='macro')*100, 2))"
      ],
      "execution_count": 31,
      "outputs": [
        {
          "output_type": "stream",
          "text": [
            "65.63\n"
          ],
          "name": "stdout"
        }
      ]
    },
    {
      "cell_type": "code",
      "metadata": {
        "id": "9LJt3i8hgM45",
        "colab": {
          "base_uri": "https://localhost:8080/"
        },
        "outputId": "a4eb39e5-611e-47b1-ca1f-3c11e87f1f7d"
      },
      "source": [
        "pred2 = model15.predict(X1_test)\n",
        "print(round(metrics.f1_score(y1_test, pred2, average='macro')*100, 2))"
      ],
      "execution_count": 32,
      "outputs": [
        {
          "output_type": "stream",
          "text": [
            "71.15\n"
          ],
          "name": "stdout"
        }
      ]
    },
    {
      "cell_type": "markdown",
      "metadata": {
        "id": "t5Hw916YnA_7"
      },
      "source": [
        "## Test Prediction"
      ]
    },
    {
      "cell_type": "code",
      "metadata": {
        "colab": {
          "base_uri": "https://localhost:8080/",
          "height": 202
        },
        "id": "g64-9pghmAvF",
        "outputId": "973f672b-adf1-4627-d069-16eafca0ce10"
      },
      "source": [
        "test_id = pd.read_csv('/content/drive/MyDrive/Genetic_Disorder/dataset/test.csv')\n",
        "test_id.head(1)"
      ],
      "execution_count": 33,
      "outputs": [
        {
          "output_type": "execute_result",
          "data": {
            "text/html": [
              "<div>\n",
              "<style scoped>\n",
              "    .dataframe tbody tr th:only-of-type {\n",
              "        vertical-align: middle;\n",
              "    }\n",
              "\n",
              "    .dataframe tbody tr th {\n",
              "        vertical-align: top;\n",
              "    }\n",
              "\n",
              "    .dataframe thead th {\n",
              "        text-align: right;\n",
              "    }\n",
              "</style>\n",
              "<table border=\"1\" class=\"dataframe\">\n",
              "  <thead>\n",
              "    <tr style=\"text-align: right;\">\n",
              "      <th></th>\n",
              "      <th>Patient Id</th>\n",
              "      <th>Patient Age</th>\n",
              "      <th>Genes in mother's side</th>\n",
              "      <th>Inherited from father</th>\n",
              "      <th>Maternal gene</th>\n",
              "      <th>Paternal gene</th>\n",
              "      <th>Blood cell count (mcL)</th>\n",
              "      <th>Patient First Name</th>\n",
              "      <th>Family Name</th>\n",
              "      <th>Father's name</th>\n",
              "      <th>Mother's age</th>\n",
              "      <th>Father's age</th>\n",
              "      <th>Institute Name</th>\n",
              "      <th>Location of Institute</th>\n",
              "      <th>Status</th>\n",
              "      <th>Respiratory Rate (breaths/min)</th>\n",
              "      <th>Heart Rate (rates/min</th>\n",
              "      <th>Test 1</th>\n",
              "      <th>Test 2</th>\n",
              "      <th>Test 3</th>\n",
              "      <th>Test 4</th>\n",
              "      <th>Test 5</th>\n",
              "      <th>Parental consent</th>\n",
              "      <th>Follow-up</th>\n",
              "      <th>Gender</th>\n",
              "      <th>Birth asphyxia</th>\n",
              "      <th>Autopsy shows birth defect (if applicable)</th>\n",
              "      <th>Place of birth</th>\n",
              "      <th>Folic acid details (peri-conceptional)</th>\n",
              "      <th>H/O serious maternal illness</th>\n",
              "      <th>H/O radiation exposure (x-ray)</th>\n",
              "      <th>H/O substance abuse</th>\n",
              "      <th>Assisted conception IVF/ART</th>\n",
              "      <th>History of anomalies in previous pregnancies</th>\n",
              "      <th>No. of previous abortion</th>\n",
              "      <th>Birth defects</th>\n",
              "      <th>White Blood cell count (thousand per microliter)</th>\n",
              "      <th>Blood test result</th>\n",
              "      <th>Symptom 1</th>\n",
              "      <th>Symptom 2</th>\n",
              "      <th>Symptom 3</th>\n",
              "      <th>Symptom 4</th>\n",
              "      <th>Symptom 5</th>\n",
              "    </tr>\n",
              "  </thead>\n",
              "  <tbody>\n",
              "    <tr>\n",
              "      <th>0</th>\n",
              "      <td>PID0x4175</td>\n",
              "      <td>6</td>\n",
              "      <td>No</td>\n",
              "      <td>Yes</td>\n",
              "      <td>No</td>\n",
              "      <td>No</td>\n",
              "      <td>4.98</td>\n",
              "      <td>Charles</td>\n",
              "      <td>NaN</td>\n",
              "      <td>Kore</td>\n",
              "      <td>38</td>\n",
              "      <td>61</td>\n",
              "      <td>St. Elizabeth's Hospital</td>\n",
              "      <td>30 WARREN ST\\nALLSTON/BRIGHTON, MA 02134\\n(42....</td>\n",
              "      <td>Alive</td>\n",
              "      <td>Tachypnea</td>\n",
              "      <td>Normal</td>\n",
              "      <td>0</td>\n",
              "      <td>-99</td>\n",
              "      <td>0</td>\n",
              "      <td>1</td>\n",
              "      <td>0</td>\n",
              "      <td>-99</td>\n",
              "      <td>Low</td>\n",
              "      <td>Male</td>\n",
              "      <td>Yes</td>\n",
              "      <td>Not applicable</td>\n",
              "      <td>Institute</td>\n",
              "      <td>Yes</td>\n",
              "      <td>No</td>\n",
              "      <td>Yes</td>\n",
              "      <td>-</td>\n",
              "      <td>No</td>\n",
              "      <td>-99</td>\n",
              "      <td>2</td>\n",
              "      <td>Multiple</td>\n",
              "      <td>-99.00</td>\n",
              "      <td>slightly abnormal</td>\n",
              "      <td>True</td>\n",
              "      <td>True</td>\n",
              "      <td>True</td>\n",
              "      <td>True</td>\n",
              "      <td>True</td>\n",
              "    </tr>\n",
              "  </tbody>\n",
              "</table>\n",
              "</div>"
            ],
            "text/plain": [
              "  Patient Id  Patient Age Genes in mother's side Inherited from father  \\\n",
              "0  PID0x4175            6                     No                   Yes   \n",
              "\n",
              "  Maternal gene Paternal gene  Blood cell count (mcL) Patient First Name  \\\n",
              "0            No            No                    4.98            Charles   \n",
              "\n",
              "  Family Name Father's name  Mother's age  Father's age  \\\n",
              "0         NaN          Kore            38            61   \n",
              "\n",
              "             Institute Name  \\\n",
              "0  St. Elizabeth's Hospital   \n",
              "\n",
              "                               Location of Institute Status  \\\n",
              "0  30 WARREN ST\\nALLSTON/BRIGHTON, MA 02134\\n(42....  Alive   \n",
              "\n",
              "  Respiratory Rate (breaths/min) Heart Rate (rates/min  Test 1  Test 2  \\\n",
              "0                      Tachypnea                Normal       0     -99   \n",
              "\n",
              "   Test 3  Test 4  Test 5 Parental consent Follow-up Gender Birth asphyxia  \\\n",
              "0       0       1       0              -99       Low   Male            Yes   \n",
              "\n",
              "  Autopsy shows birth defect (if applicable) Place of birth  \\\n",
              "0                             Not applicable      Institute   \n",
              "\n",
              "  Folic acid details (peri-conceptional) H/O serious maternal illness  \\\n",
              "0                                    Yes                           No   \n",
              "\n",
              "  H/O radiation exposure (x-ray) H/O substance abuse  \\\n",
              "0                            Yes                   -   \n",
              "\n",
              "  Assisted conception IVF/ART History of anomalies in previous pregnancies  \\\n",
              "0                          No                                          -99   \n",
              "\n",
              "   No. of previous abortion Birth defects  \\\n",
              "0                         2      Multiple   \n",
              "\n",
              "   White Blood cell count (thousand per microliter)  Blood test result  \\\n",
              "0                                            -99.00  slightly abnormal   \n",
              "\n",
              "   Symptom 1  Symptom 2  Symptom 3  Symptom 4  Symptom 5  \n",
              "0       True       True       True       True       True  "
            ]
          },
          "metadata": {
            "tags": []
          },
          "execution_count": 33
        }
      ]
    },
    {
      "cell_type": "code",
      "metadata": {
        "colab": {
          "base_uri": "https://localhost:8080/"
        },
        "id": "rl1-7VzCohkG",
        "outputId": "32b11954-c2b8-43ca-8207-32ac9551eea6"
      },
      "source": [
        "test.shape"
      ],
      "execution_count": 34,
      "outputs": [
        {
          "output_type": "execute_result",
          "data": {
            "text/plain": [
              "(9465, 19)"
            ]
          },
          "metadata": {
            "tags": []
          },
          "execution_count": 34
        }
      ]
    },
    {
      "cell_type": "code",
      "metadata": {
        "id": "R-WHlXwonHRJ"
      },
      "source": [
        "final_pred1 = model7.predict(test)\n",
        "final_pred2 = model15.predict(test)"
      ],
      "execution_count": 35,
      "outputs": []
    },
    {
      "cell_type": "code",
      "metadata": {
        "colab": {
          "base_uri": "https://localhost:8080/"
        },
        "id": "1-ry1ZWVpWMZ",
        "outputId": "11cb1cc9-1361-4d82-bd65-c104401d542e"
      },
      "source": [
        "final_pred1[:20]"
      ],
      "execution_count": 36,
      "outputs": [
        {
          "output_type": "execute_result",
          "data": {
            "text/plain": [
              "array([0, 0, 0, 0, 0, 1, 0, 0, 2, 1, 0, 2, 0, 1, 0, 2, 2, 0, 2, 2])"
            ]
          },
          "metadata": {
            "tags": []
          },
          "execution_count": 36
        }
      ]
    },
    {
      "cell_type": "code",
      "metadata": {
        "colab": {
          "base_uri": "https://localhost:8080/"
        },
        "id": "8vDPXSAIpWq5",
        "outputId": "4d7c33af-ed3f-4ec6-f2c9-826ab3fc0977"
      },
      "source": [
        "final_pred2[:20]"
      ],
      "execution_count": 37,
      "outputs": [
        {
          "output_type": "execute_result",
          "data": {
            "text/plain": [
              "array([2, 7, 7, 7, 2, 3, 6, 2, 4, 5, 7, 2, 8, 3, 3, 2, 6, 2, 6, 2])"
            ]
          },
          "metadata": {
            "tags": []
          },
          "execution_count": 37
        }
      ]
    },
    {
      "cell_type": "code",
      "metadata": {
        "colab": {
          "base_uri": "https://localhost:8080/",
          "height": 203
        },
        "id": "HKvvcL31oC1z",
        "outputId": "73e07e55-9aeb-4d74-8674-34102992740e"
      },
      "source": [
        "# Create a dataframe and append the relevant colimns.\n",
        "submission = pd.DataFrame()\n",
        "submission['Patient Id'] = test_id['Patient Id']\n",
        "submission['Genetic Disorder'] = final_pred1\n",
        "submission['Disorder Subclass'] = final_pred2\n",
        "submission.head()"
      ],
      "execution_count": 38,
      "outputs": [
        {
          "output_type": "execute_result",
          "data": {
            "text/html": [
              "<div>\n",
              "<style scoped>\n",
              "    .dataframe tbody tr th:only-of-type {\n",
              "        vertical-align: middle;\n",
              "    }\n",
              "\n",
              "    .dataframe tbody tr th {\n",
              "        vertical-align: top;\n",
              "    }\n",
              "\n",
              "    .dataframe thead th {\n",
              "        text-align: right;\n",
              "    }\n",
              "</style>\n",
              "<table border=\"1\" class=\"dataframe\">\n",
              "  <thead>\n",
              "    <tr style=\"text-align: right;\">\n",
              "      <th></th>\n",
              "      <th>Patient Id</th>\n",
              "      <th>Genetic Disorder</th>\n",
              "      <th>Disorder Subclass</th>\n",
              "    </tr>\n",
              "  </thead>\n",
              "  <tbody>\n",
              "    <tr>\n",
              "      <th>0</th>\n",
              "      <td>PID0x4175</td>\n",
              "      <td>0</td>\n",
              "      <td>2</td>\n",
              "    </tr>\n",
              "    <tr>\n",
              "      <th>1</th>\n",
              "      <td>PID0x21f5</td>\n",
              "      <td>0</td>\n",
              "      <td>7</td>\n",
              "    </tr>\n",
              "    <tr>\n",
              "      <th>2</th>\n",
              "      <td>PID0x49b8</td>\n",
              "      <td>0</td>\n",
              "      <td>7</td>\n",
              "    </tr>\n",
              "    <tr>\n",
              "      <th>3</th>\n",
              "      <td>PID0x2d97</td>\n",
              "      <td>0</td>\n",
              "      <td>7</td>\n",
              "    </tr>\n",
              "    <tr>\n",
              "      <th>4</th>\n",
              "      <td>PID0x58da</td>\n",
              "      <td>0</td>\n",
              "      <td>2</td>\n",
              "    </tr>\n",
              "  </tbody>\n",
              "</table>\n",
              "</div>"
            ],
            "text/plain": [
              "  Patient Id  Genetic Disorder  Disorder Subclass\n",
              "0  PID0x4175                 0                  2\n",
              "1  PID0x21f5                 0                  7\n",
              "2  PID0x49b8                 0                  7\n",
              "3  PID0x2d97                 0                  7\n",
              "4  PID0x58da                 0                  2"
            ]
          },
          "metadata": {
            "tags": []
          },
          "execution_count": 38
        }
      ]
    },
    {
      "cell_type": "code",
      "metadata": {
        "id": "g0p_qrUZoWrx",
        "colab": {
          "base_uri": "https://localhost:8080/",
          "height": 203
        },
        "outputId": "abf03630-130e-466a-df4f-9c9a4621fd43"
      },
      "source": [
        "submission['Genetic Disorder'].replace(0, 'Mitochondrial genetic inheritance disorders', inplace= True)\n",
        "submission['Genetic Disorder'].replace(2, 'Single-gene inheritance diseases', inplace= True)\n",
        "submission['Genetic Disorder'].replace(1, 'Multifactorial genetic inheritance disorders', inplace= True)\n",
        "submission.head()"
      ],
      "execution_count": 39,
      "outputs": [
        {
          "output_type": "execute_result",
          "data": {
            "text/html": [
              "<div>\n",
              "<style scoped>\n",
              "    .dataframe tbody tr th:only-of-type {\n",
              "        vertical-align: middle;\n",
              "    }\n",
              "\n",
              "    .dataframe tbody tr th {\n",
              "        vertical-align: top;\n",
              "    }\n",
              "\n",
              "    .dataframe thead th {\n",
              "        text-align: right;\n",
              "    }\n",
              "</style>\n",
              "<table border=\"1\" class=\"dataframe\">\n",
              "  <thead>\n",
              "    <tr style=\"text-align: right;\">\n",
              "      <th></th>\n",
              "      <th>Patient Id</th>\n",
              "      <th>Genetic Disorder</th>\n",
              "      <th>Disorder Subclass</th>\n",
              "    </tr>\n",
              "  </thead>\n",
              "  <tbody>\n",
              "    <tr>\n",
              "      <th>0</th>\n",
              "      <td>PID0x4175</td>\n",
              "      <td>Mitochondrial genetic inheritance disorders</td>\n",
              "      <td>2</td>\n",
              "    </tr>\n",
              "    <tr>\n",
              "      <th>1</th>\n",
              "      <td>PID0x21f5</td>\n",
              "      <td>Mitochondrial genetic inheritance disorders</td>\n",
              "      <td>7</td>\n",
              "    </tr>\n",
              "    <tr>\n",
              "      <th>2</th>\n",
              "      <td>PID0x49b8</td>\n",
              "      <td>Mitochondrial genetic inheritance disorders</td>\n",
              "      <td>7</td>\n",
              "    </tr>\n",
              "    <tr>\n",
              "      <th>3</th>\n",
              "      <td>PID0x2d97</td>\n",
              "      <td>Mitochondrial genetic inheritance disorders</td>\n",
              "      <td>7</td>\n",
              "    </tr>\n",
              "    <tr>\n",
              "      <th>4</th>\n",
              "      <td>PID0x58da</td>\n",
              "      <td>Mitochondrial genetic inheritance disorders</td>\n",
              "      <td>2</td>\n",
              "    </tr>\n",
              "  </tbody>\n",
              "</table>\n",
              "</div>"
            ],
            "text/plain": [
              "  Patient Id                             Genetic Disorder  Disorder Subclass\n",
              "0  PID0x4175  Mitochondrial genetic inheritance disorders                  2\n",
              "1  PID0x21f5  Mitochondrial genetic inheritance disorders                  7\n",
              "2  PID0x49b8  Mitochondrial genetic inheritance disorders                  7\n",
              "3  PID0x2d97  Mitochondrial genetic inheritance disorders                  7\n",
              "4  PID0x58da  Mitochondrial genetic inheritance disorders                  2"
            ]
          },
          "metadata": {
            "tags": []
          },
          "execution_count": 39
        }
      ]
    },
    {
      "cell_type": "code",
      "metadata": {
        "colab": {
          "base_uri": "https://localhost:8080/",
          "height": 203
        },
        "id": "3h3JoPx-qwKE",
        "outputId": "8eae9cb6-dfdd-43a1-dd89-6089484aa4cd"
      },
      "source": [
        "submission['Disorder Subclass'].replace(0, \"Alzheimer's\", inplace= True)\n",
        "submission['Disorder Subclass'].replace(1, 'Cancer', inplace= True)\n",
        "submission['Disorder Subclass'].replace(2, 'Cystic fibrosis', inplace= True)\n",
        "submission['Disorder Subclass'].replace(3, 'Diabetes', inplace= True)\n",
        "submission['Disorder Subclass'].replace(4, 'Hemochromatosis', inplace= True)\n",
        "submission['Disorder Subclass'].replace(5, \"Leber's hereditary optic neuropathy\", inplace= True)\n",
        "submission['Disorder Subclass'].replace(6, 'Leigh syndrome', inplace= True)\n",
        "submission['Disorder Subclass'].replace(7, 'Mitochondrial myopathy', inplace= True)\n",
        "submission['Disorder Subclass'].replace(8, 'Tay-Sachs', inplace= True)\n",
        "submission.head()"
      ],
      "execution_count": 40,
      "outputs": [
        {
          "output_type": "execute_result",
          "data": {
            "text/html": [
              "<div>\n",
              "<style scoped>\n",
              "    .dataframe tbody tr th:only-of-type {\n",
              "        vertical-align: middle;\n",
              "    }\n",
              "\n",
              "    .dataframe tbody tr th {\n",
              "        vertical-align: top;\n",
              "    }\n",
              "\n",
              "    .dataframe thead th {\n",
              "        text-align: right;\n",
              "    }\n",
              "</style>\n",
              "<table border=\"1\" class=\"dataframe\">\n",
              "  <thead>\n",
              "    <tr style=\"text-align: right;\">\n",
              "      <th></th>\n",
              "      <th>Patient Id</th>\n",
              "      <th>Genetic Disorder</th>\n",
              "      <th>Disorder Subclass</th>\n",
              "    </tr>\n",
              "  </thead>\n",
              "  <tbody>\n",
              "    <tr>\n",
              "      <th>0</th>\n",
              "      <td>PID0x4175</td>\n",
              "      <td>Mitochondrial genetic inheritance disorders</td>\n",
              "      <td>Cystic fibrosis</td>\n",
              "    </tr>\n",
              "    <tr>\n",
              "      <th>1</th>\n",
              "      <td>PID0x21f5</td>\n",
              "      <td>Mitochondrial genetic inheritance disorders</td>\n",
              "      <td>Mitochondrial myopathy</td>\n",
              "    </tr>\n",
              "    <tr>\n",
              "      <th>2</th>\n",
              "      <td>PID0x49b8</td>\n",
              "      <td>Mitochondrial genetic inheritance disorders</td>\n",
              "      <td>Mitochondrial myopathy</td>\n",
              "    </tr>\n",
              "    <tr>\n",
              "      <th>3</th>\n",
              "      <td>PID0x2d97</td>\n",
              "      <td>Mitochondrial genetic inheritance disorders</td>\n",
              "      <td>Mitochondrial myopathy</td>\n",
              "    </tr>\n",
              "    <tr>\n",
              "      <th>4</th>\n",
              "      <td>PID0x58da</td>\n",
              "      <td>Mitochondrial genetic inheritance disorders</td>\n",
              "      <td>Cystic fibrosis</td>\n",
              "    </tr>\n",
              "  </tbody>\n",
              "</table>\n",
              "</div>"
            ],
            "text/plain": [
              "  Patient Id                             Genetic Disorder  \\\n",
              "0  PID0x4175  Mitochondrial genetic inheritance disorders   \n",
              "1  PID0x21f5  Mitochondrial genetic inheritance disorders   \n",
              "2  PID0x49b8  Mitochondrial genetic inheritance disorders   \n",
              "3  PID0x2d97  Mitochondrial genetic inheritance disorders   \n",
              "4  PID0x58da  Mitochondrial genetic inheritance disorders   \n",
              "\n",
              "        Disorder Subclass  \n",
              "0         Cystic fibrosis  \n",
              "1  Mitochondrial myopathy  \n",
              "2  Mitochondrial myopathy  \n",
              "3  Mitochondrial myopathy  \n",
              "4         Cystic fibrosis  "
            ]
          },
          "metadata": {
            "tags": []
          },
          "execution_count": 40
        }
      ]
    },
    {
      "cell_type": "code",
      "metadata": {
        "colab": {
          "base_uri": "https://localhost:8080/"
        },
        "id": "7xXja5sQtOby",
        "outputId": "d8d6fe24-0488-49c6-e58c-53c613e586f3"
      },
      "source": [
        "# convert submission dataframe to csv.\n",
        "submission.to_csv('/content/drive/MyDrive/Genetic_Disorder/FinalSubmission.csv', index= False)\n",
        "print('Submission csv is ready')"
      ],
      "execution_count": 41,
      "outputs": [
        {
          "output_type": "stream",
          "text": [
            "Submission csv is ready\n"
          ],
          "name": "stdout"
        }
      ]
    },
    {
      "cell_type": "code",
      "metadata": {
        "id": "zasVKJJRtqlo"
      },
      "source": [
        ""
      ],
      "execution_count": null,
      "outputs": []
    },
    {
      "cell_type": "code",
      "metadata": {
        "id": "7r7jGq6aJsP9"
      },
      "source": [
        ""
      ],
      "execution_count": null,
      "outputs": []
    }
  ]
}